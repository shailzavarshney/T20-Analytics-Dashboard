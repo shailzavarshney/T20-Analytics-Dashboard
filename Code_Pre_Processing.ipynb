{
 "cells": [
  {
   "cell_type": "markdown",
   "id": "5bc95a08",
   "metadata": {},
   "source": [
    "<h1 align=\"center\"> T20 World Cup Cricket Data Pre Processing </h1>"
   ]
  },
  {
   "cell_type": "code",
   "execution_count": 16,
   "id": "4de3844a",
   "metadata": {},
   "outputs": [],
   "source": [
    "#import necessary libraries\n",
    "import pandas as pd\n",
    "import json"
   ]
  },
  {
   "cell_type": "markdown",
   "id": "c64f424a",
   "metadata": {},
   "source": [
    "<h4 style=\"color:blue\">(1) Process Match Results</h4>"
   ]
  },
  {
   "cell_type": "code",
   "execution_count": 17,
   "id": "0635ec4b",
   "metadata": {},
   "outputs": [
    {
     "data": {
      "text/html": [
       "<div>\n",
       "<style scoped>\n",
       "    .dataframe tbody tr th:only-of-type {\n",
       "        vertical-align: middle;\n",
       "    }\n",
       "\n",
       "    .dataframe tbody tr th {\n",
       "        vertical-align: top;\n",
       "    }\n",
       "\n",
       "    .dataframe thead th {\n",
       "        text-align: right;\n",
       "    }\n",
       "</style>\n",
       "<table border=\"1\" class=\"dataframe\">\n",
       "  <thead>\n",
       "    <tr style=\"text-align: right;\">\n",
       "      <th></th>\n",
       "      <th>team1</th>\n",
       "      <th>team2</th>\n",
       "      <th>winner</th>\n",
       "      <th>margin</th>\n",
       "      <th>ground</th>\n",
       "      <th>matchDate</th>\n",
       "      <th>match_id</th>\n",
       "    </tr>\n",
       "  </thead>\n",
       "  <tbody>\n",
       "    <tr>\n",
       "      <th>0</th>\n",
       "      <td>Namibia</td>\n",
       "      <td>Sri Lanka</td>\n",
       "      <td>Namibia</td>\n",
       "      <td>55 runs</td>\n",
       "      <td>Geelong</td>\n",
       "      <td>Oct 16, 2022</td>\n",
       "      <td>T20I # 1823</td>\n",
       "    </tr>\n",
       "    <tr>\n",
       "      <th>1</th>\n",
       "      <td>Netherlands</td>\n",
       "      <td>U.A.E.</td>\n",
       "      <td>Netherlands</td>\n",
       "      <td>3 wickets</td>\n",
       "      <td>Geelong</td>\n",
       "      <td>Oct 16, 2022</td>\n",
       "      <td>T20I # 1825</td>\n",
       "    </tr>\n",
       "    <tr>\n",
       "      <th>2</th>\n",
       "      <td>Scotland</td>\n",
       "      <td>West Indies</td>\n",
       "      <td>Scotland</td>\n",
       "      <td>42 runs</td>\n",
       "      <td>Hobart</td>\n",
       "      <td>Oct 17, 2022</td>\n",
       "      <td>T20I # 1826</td>\n",
       "    </tr>\n",
       "    <tr>\n",
       "      <th>3</th>\n",
       "      <td>Ireland</td>\n",
       "      <td>Zimbabwe</td>\n",
       "      <td>Zimbabwe</td>\n",
       "      <td>31 runs</td>\n",
       "      <td>Hobart</td>\n",
       "      <td>Oct 17, 2022</td>\n",
       "      <td>T20I # 1828</td>\n",
       "    </tr>\n",
       "    <tr>\n",
       "      <th>4</th>\n",
       "      <td>Namibia</td>\n",
       "      <td>Netherlands</td>\n",
       "      <td>Netherlands</td>\n",
       "      <td>5 wickets</td>\n",
       "      <td>Geelong</td>\n",
       "      <td>Oct 18, 2022</td>\n",
       "      <td>T20I # 1830</td>\n",
       "    </tr>\n",
       "  </tbody>\n",
       "</table>\n",
       "</div>"
      ],
      "text/plain": [
       "         team1        team2       winner     margin   ground     matchDate  \\\n",
       "0      Namibia    Sri Lanka      Namibia    55 runs  Geelong  Oct 16, 2022   \n",
       "1  Netherlands       U.A.E.  Netherlands  3 wickets  Geelong  Oct 16, 2022   \n",
       "2     Scotland  West Indies     Scotland    42 runs   Hobart  Oct 17, 2022   \n",
       "3      Ireland     Zimbabwe     Zimbabwe    31 runs   Hobart  Oct 17, 2022   \n",
       "4      Namibia  Netherlands  Netherlands  5 wickets  Geelong  Oct 18, 2022   \n",
       "\n",
       "      match_id  \n",
       "0  T20I # 1823  \n",
       "1  T20I # 1825  \n",
       "2  T20I # 1826  \n",
       "3  T20I # 1828  \n",
       "4  T20I # 1830  "
      ]
     },
     "execution_count": 17,
     "metadata": {},
     "output_type": "execute_result"
    }
   ],
   "source": [
    "df_match = pd.read_csv(\"./t20_csv_files/dim_match_summary.csv\")\n",
    "df_match.head(5)"
   ]
  },
  {
   "cell_type": "code",
   "execution_count": 18,
   "id": "b97f0450",
   "metadata": {},
   "outputs": [
    {
     "data": {
      "text/plain": [
       "(45, 7)"
      ]
     },
     "execution_count": 18,
     "metadata": {},
     "output_type": "execute_result"
    }
   ],
   "source": [
    "df_match.shape"
   ]
  },
  {
   "cell_type": "code",
   "execution_count": 19,
   "id": "8916b21f",
   "metadata": {},
   "outputs": [],
   "source": [
    "df_match.to_csv('Files/dim_match_summary.csv', index = False)"
   ]
  },
  {
   "cell_type": "markdown",
   "id": "c48642e6",
   "metadata": {},
   "source": [
    "<h4 style=\"color:blue\">(2) Process Batting Summary</h4>"
   ]
  },
  {
   "cell_type": "code",
   "execution_count": 20,
   "id": "f66fda8c",
   "metadata": {},
   "outputs": [
    {
     "data": {
      "text/html": [
       "<div>\n",
       "<style scoped>\n",
       "    .dataframe tbody tr th:only-of-type {\n",
       "        vertical-align: middle;\n",
       "    }\n",
       "\n",
       "    .dataframe tbody tr th {\n",
       "        vertical-align: top;\n",
       "    }\n",
       "\n",
       "    .dataframe thead th {\n",
       "        text-align: right;\n",
       "    }\n",
       "</style>\n",
       "<table border=\"1\" class=\"dataframe\">\n",
       "  <thead>\n",
       "    <tr style=\"text-align: right;\">\n",
       "      <th></th>\n",
       "      <th>match</th>\n",
       "      <th>teamInnings</th>\n",
       "      <th>match_id</th>\n",
       "      <th>batsmanName</th>\n",
       "      <th>runs</th>\n",
       "      <th>balls</th>\n",
       "      <th>4s</th>\n",
       "      <th>6s</th>\n",
       "      <th>SR</th>\n",
       "      <th>battingPos</th>\n",
       "    </tr>\n",
       "  </thead>\n",
       "  <tbody>\n",
       "    <tr>\n",
       "      <th>0</th>\n",
       "      <td>Afghanistan vs England</td>\n",
       "      <td>Afghanistan</td>\n",
       "      <td>T20I # 1840</td>\n",
       "      <td>Hazratullah Zazai</td>\n",
       "      <td>7</td>\n",
       "      <td>17</td>\n",
       "      <td>1</td>\n",
       "      <td>0</td>\n",
       "      <td>41.17</td>\n",
       "      <td>1</td>\n",
       "    </tr>\n",
       "    <tr>\n",
       "      <th>1</th>\n",
       "      <td>Afghanistan vs England</td>\n",
       "      <td>Afghanistan</td>\n",
       "      <td>T20I # 1840</td>\n",
       "      <td>Rahmanullah Gurbaz†</td>\n",
       "      <td>10</td>\n",
       "      <td>9</td>\n",
       "      <td>0</td>\n",
       "      <td>1</td>\n",
       "      <td>111.11</td>\n",
       "      <td>2</td>\n",
       "    </tr>\n",
       "    <tr>\n",
       "      <th>2</th>\n",
       "      <td>Afghanistan vs England</td>\n",
       "      <td>Afghanistan</td>\n",
       "      <td>T20I # 1840</td>\n",
       "      <td>Ibrahim Zadran</td>\n",
       "      <td>32</td>\n",
       "      <td>32</td>\n",
       "      <td>3</td>\n",
       "      <td>1</td>\n",
       "      <td>100.00</td>\n",
       "      <td>3</td>\n",
       "    </tr>\n",
       "    <tr>\n",
       "      <th>3</th>\n",
       "      <td>Afghanistan vs England</td>\n",
       "      <td>Afghanistan</td>\n",
       "      <td>T20I # 1840</td>\n",
       "      <td>Usman Ghani</td>\n",
       "      <td>30</td>\n",
       "      <td>30</td>\n",
       "      <td>3</td>\n",
       "      <td>0</td>\n",
       "      <td>100.00</td>\n",
       "      <td>4</td>\n",
       "    </tr>\n",
       "    <tr>\n",
       "      <th>4</th>\n",
       "      <td>Afghanistan vs England</td>\n",
       "      <td>Afghanistan</td>\n",
       "      <td>T20I # 1840</td>\n",
       "      <td>Najibullah Zadran</td>\n",
       "      <td>13</td>\n",
       "      <td>11</td>\n",
       "      <td>0</td>\n",
       "      <td>1</td>\n",
       "      <td>118.18</td>\n",
       "      <td>5</td>\n",
       "    </tr>\n",
       "  </tbody>\n",
       "</table>\n",
       "</div>"
      ],
      "text/plain": [
       "                    match  teamInnings     match_id          batsmanName  \\\n",
       "0  Afghanistan vs England  Afghanistan  T20I # 1840    Hazratullah Zazai   \n",
       "1  Afghanistan vs England  Afghanistan  T20I # 1840  Rahmanullah Gurbaz†   \n",
       "2  Afghanistan vs England  Afghanistan  T20I # 1840       Ibrahim Zadran   \n",
       "3  Afghanistan vs England  Afghanistan  T20I # 1840          Usman Ghani   \n",
       "4  Afghanistan vs England  Afghanistan  T20I # 1840    Najibullah Zadran   \n",
       "\n",
       "   runs  balls  4s  6s      SR  battingPos  \n",
       "0     7     17   1   0   41.17           1  \n",
       "1    10      9   0   1  111.11           2  \n",
       "2    32     32   3   1  100.00           3  \n",
       "3    30     30   3   0  100.00           4  \n",
       "4    13     11   0   1  118.18           5  "
      ]
     },
     "execution_count": 20,
     "metadata": {},
     "output_type": "execute_result"
    }
   ],
   "source": [
    "df_batting = pd.read_csv(\"./New folder/fact_batting_summary1.csv\")\n",
    "df_batting.head()"
   ]
  },
  {
   "cell_type": "code",
   "execution_count": 21,
   "id": "eb45a55f",
   "metadata": {},
   "outputs": [],
   "source": [
    "df_batting['batsmanName'] = df_batting['batsmanName'].apply(lambda x: x.replace('â€', ''))\n",
    "df_batting['batsmanName'] = df_batting['batsmanName'].apply(lambda x: x.replace('\\xa0', ''))\n",
    "df_batting['batsmanName'] = df_batting['batsmanName'].apply(lambda x: x.replace('†', ''))"
   ]
  },
  {
   "cell_type": "code",
   "execution_count": 22,
   "id": "8712f0c4",
   "metadata": {},
   "outputs": [
    {
     "data": {
      "text/plain": [
       "(699, 10)"
      ]
     },
     "execution_count": 22,
     "metadata": {},
     "output_type": "execute_result"
    }
   ],
   "source": [
    "df_batting.shape"
   ]
  },
  {
   "cell_type": "code",
   "execution_count": 23,
   "id": "191d4f5e",
   "metadata": {},
   "outputs": [],
   "source": [
    "df_batting.to_csv('Files/fact_bating_summary.csv', index = False)"
   ]
  },
  {
   "cell_type": "markdown",
   "id": "fc509885",
   "metadata": {},
   "source": [
    "<h4 style=\"color:blue\">(3) Process Bowling Summary</h4>"
   ]
  },
  {
   "cell_type": "code",
   "execution_count": 24,
   "id": "81ed6da6",
   "metadata": {},
   "outputs": [
    {
     "data": {
      "text/html": [
       "<div>\n",
       "<style scoped>\n",
       "    .dataframe tbody tr th:only-of-type {\n",
       "        vertical-align: middle;\n",
       "    }\n",
       "\n",
       "    .dataframe tbody tr th {\n",
       "        vertical-align: top;\n",
       "    }\n",
       "\n",
       "    .dataframe thead th {\n",
       "        text-align: right;\n",
       "    }\n",
       "</style>\n",
       "<table border=\"1\" class=\"dataframe\">\n",
       "  <thead>\n",
       "    <tr style=\"text-align: right;\">\n",
       "      <th></th>\n",
       "      <th>match_id</th>\n",
       "      <th>match</th>\n",
       "      <th>bowlingTeam</th>\n",
       "      <th>bowlerName</th>\n",
       "      <th>overs</th>\n",
       "      <th>maiden</th>\n",
       "      <th>runs</th>\n",
       "      <th>wickets</th>\n",
       "      <th>economy</th>\n",
       "      <th>0s</th>\n",
       "      <th>4s</th>\n",
       "      <th>6s</th>\n",
       "      <th>wides</th>\n",
       "      <th>noBalls</th>\n",
       "    </tr>\n",
       "  </thead>\n",
       "  <tbody>\n",
       "    <tr>\n",
       "      <th>0</th>\n",
       "      <td>T20I # 1840</td>\n",
       "      <td>Afghanistan vs England</td>\n",
       "      <td>England</td>\n",
       "      <td>Ben Stokes</td>\n",
       "      <td>4.0</td>\n",
       "      <td>0</td>\n",
       "      <td>19</td>\n",
       "      <td>2</td>\n",
       "      <td>4.75</td>\n",
       "      <td>14</td>\n",
       "      <td>2</td>\n",
       "      <td>0</td>\n",
       "      <td>1</td>\n",
       "      <td>0</td>\n",
       "    </tr>\n",
       "    <tr>\n",
       "      <th>1</th>\n",
       "      <td>T20I # 1840</td>\n",
       "      <td>Afghanistan vs England</td>\n",
       "      <td>England</td>\n",
       "      <td>Chris Woakes</td>\n",
       "      <td>4.0</td>\n",
       "      <td>0</td>\n",
       "      <td>24</td>\n",
       "      <td>1</td>\n",
       "      <td>6.00</td>\n",
       "      <td>15</td>\n",
       "      <td>2</td>\n",
       "      <td>1</td>\n",
       "      <td>1</td>\n",
       "      <td>0</td>\n",
       "    </tr>\n",
       "    <tr>\n",
       "      <th>2</th>\n",
       "      <td>T20I # 1840</td>\n",
       "      <td>Afghanistan vs England</td>\n",
       "      <td>England</td>\n",
       "      <td>Mark Wood</td>\n",
       "      <td>4.0</td>\n",
       "      <td>0</td>\n",
       "      <td>23</td>\n",
       "      <td>2</td>\n",
       "      <td>5.75</td>\n",
       "      <td>14</td>\n",
       "      <td>2</td>\n",
       "      <td>1</td>\n",
       "      <td>0</td>\n",
       "      <td>0</td>\n",
       "    </tr>\n",
       "    <tr>\n",
       "      <th>3</th>\n",
       "      <td>T20I # 1840</td>\n",
       "      <td>Afghanistan vs England</td>\n",
       "      <td>England</td>\n",
       "      <td>Sam Curran</td>\n",
       "      <td>3.4</td>\n",
       "      <td>0</td>\n",
       "      <td>10</td>\n",
       "      <td>5</td>\n",
       "      <td>2.72</td>\n",
       "      <td>16</td>\n",
       "      <td>1</td>\n",
       "      <td>0</td>\n",
       "      <td>1</td>\n",
       "      <td>0</td>\n",
       "    </tr>\n",
       "    <tr>\n",
       "      <th>4</th>\n",
       "      <td>T20I # 1840</td>\n",
       "      <td>Afghanistan vs England</td>\n",
       "      <td>England</td>\n",
       "      <td>Adil Rashid</td>\n",
       "      <td>4.0</td>\n",
       "      <td>0</td>\n",
       "      <td>32</td>\n",
       "      <td>0</td>\n",
       "      <td>8.00</td>\n",
       "      <td>4</td>\n",
       "      <td>1</td>\n",
       "      <td>1</td>\n",
       "      <td>0</td>\n",
       "      <td>0</td>\n",
       "    </tr>\n",
       "  </tbody>\n",
       "</table>\n",
       "</div>"
      ],
      "text/plain": [
       "      match_id                   match bowlingTeam    bowlerName  overs  \\\n",
       "0  T20I # 1840  Afghanistan vs England     England    Ben Stokes    4.0   \n",
       "1  T20I # 1840  Afghanistan vs England     England  Chris Woakes    4.0   \n",
       "2  T20I # 1840  Afghanistan vs England     England     Mark Wood    4.0   \n",
       "3  T20I # 1840  Afghanistan vs England     England    Sam Curran    3.4   \n",
       "4  T20I # 1840  Afghanistan vs England     England   Adil Rashid    4.0   \n",
       "\n",
       "   maiden  runs  wickets  economy  0s  4s  6s  wides  noBalls  \n",
       "0       0    19        2     4.75  14   2   0      1        0  \n",
       "1       0    24        1     6.00  15   2   1      1        0  \n",
       "2       0    23        2     5.75  14   2   1      0        0  \n",
       "3       0    10        5     2.72  16   1   0      1        0  \n",
       "4       0    32        0     8.00   4   1   1      0        0  "
      ]
     },
     "execution_count": 24,
     "metadata": {},
     "output_type": "execute_result"
    }
   ],
   "source": [
    "df_bowling = pd.read_csv(\"./New folder/fact_bowling_summary.csv\")\n",
    "df_bowling.head()"
   ]
  },
  {
   "cell_type": "code",
   "execution_count": 25,
   "id": "6565b849",
   "metadata": {},
   "outputs": [
    {
     "data": {
      "text/plain": [
       "(463, 14)"
      ]
     },
     "execution_count": 25,
     "metadata": {},
     "output_type": "execute_result"
    }
   ],
   "source": [
    "df_bowling.shape"
   ]
  },
  {
   "cell_type": "code",
   "execution_count": 26,
   "id": "8a484187",
   "metadata": {},
   "outputs": [],
   "source": [
    "df_bowling.to_csv('Files/fact_bowling_summary.csv', index = False)"
   ]
  },
  {
   "cell_type": "markdown",
   "id": "44634ac7",
   "metadata": {},
   "source": [
    "<h4 style=\"color:blue\">(4) Process Players Information</h4>"
   ]
  },
  {
   "cell_type": "code",
   "execution_count": 27,
   "id": "1fd8e6bd",
   "metadata": {},
   "outputs": [
    {
     "data": {
      "text/html": [
       "<div>\n",
       "<style scoped>\n",
       "    .dataframe tbody tr th:only-of-type {\n",
       "        vertical-align: middle;\n",
       "    }\n",
       "\n",
       "    .dataframe tbody tr th {\n",
       "        vertical-align: top;\n",
       "    }\n",
       "\n",
       "    .dataframe thead th {\n",
       "        text-align: right;\n",
       "    }\n",
       "</style>\n",
       "<table border=\"1\" class=\"dataframe\">\n",
       "  <thead>\n",
       "    <tr style=\"text-align: right;\">\n",
       "      <th></th>\n",
       "      <th>name</th>\n",
       "      <th>team</th>\n",
       "      <th>battingStyle</th>\n",
       "      <th>bowlingStyle</th>\n",
       "      <th>playingRole</th>\n",
       "      <th>image</th>\n",
       "      <th>description</th>\n",
       "    </tr>\n",
       "  </thead>\n",
       "  <tbody>\n",
       "    <tr>\n",
       "      <th>0</th>\n",
       "      <td>Gulbadin Naib</td>\n",
       "      <td>Afghanistan</td>\n",
       "      <td>Right hand Bat</td>\n",
       "      <td>Right arm Medium fast</td>\n",
       "      <td>Batting Allrounder</td>\n",
       "      <td>https://wassets.hscicdn.com/static/images/lazy...</td>\n",
       "      <td>NaN</td>\n",
       "    </tr>\n",
       "    <tr>\n",
       "      <th>1</th>\n",
       "      <td>Rahmanullah Gurbaz</td>\n",
       "      <td>Afghanistan</td>\n",
       "      <td>Right hand Bat</td>\n",
       "      <td>NaN</td>\n",
       "      <td>Wicketkeeper Batter</td>\n",
       "      <td>https://wassets.hscicdn.com/static/images/lazy...</td>\n",
       "      <td>NaN</td>\n",
       "    </tr>\n",
       "    <tr>\n",
       "      <th>2</th>\n",
       "      <td>Najibullah Zadran</td>\n",
       "      <td>Afghanistan</td>\n",
       "      <td>Left hand Bat</td>\n",
       "      <td>Right arm Offbreak</td>\n",
       "      <td>Middle order Batter</td>\n",
       "      <td>https://wassets.hscicdn.com/static/images/lazy...</td>\n",
       "      <td>NaN</td>\n",
       "    </tr>\n",
       "    <tr>\n",
       "      <th>3</th>\n",
       "      <td>Usman Ghani</td>\n",
       "      <td>Afghanistan</td>\n",
       "      <td>Right hand Bat</td>\n",
       "      <td>NaN</td>\n",
       "      <td>Opening Batter</td>\n",
       "      <td>https://wassets.hscicdn.com/static/images/lazy...</td>\n",
       "      <td>NaN</td>\n",
       "    </tr>\n",
       "    <tr>\n",
       "      <th>4</th>\n",
       "      <td>Ibrahim Zadran</td>\n",
       "      <td>Afghanistan</td>\n",
       "      <td>Right hand Bat</td>\n",
       "      <td>Right arm Medium fast</td>\n",
       "      <td>Opening Batter</td>\n",
       "      <td>https://wassets.hscicdn.com/static/images/lazy...</td>\n",
       "      <td>NaN</td>\n",
       "    </tr>\n",
       "  </tbody>\n",
       "</table>\n",
       "</div>"
      ],
      "text/plain": [
       "                 name         team    battingStyle           bowlingStyle  \\\n",
       "0       Gulbadin Naib  Afghanistan  Right hand Bat  Right arm Medium fast   \n",
       "1  Rahmanullah Gurbaz  Afghanistan  Right hand Bat                    NaN   \n",
       "2   Najibullah Zadran  Afghanistan   Left hand Bat     Right arm Offbreak   \n",
       "3         Usman Ghani  Afghanistan  Right hand Bat                    NaN   \n",
       "4      Ibrahim Zadran  Afghanistan  Right hand Bat  Right arm Medium fast   \n",
       "\n",
       "           playingRole                                              image  \\\n",
       "0   Batting Allrounder  https://wassets.hscicdn.com/static/images/lazy...   \n",
       "1  Wicketkeeper Batter  https://wassets.hscicdn.com/static/images/lazy...   \n",
       "2  Middle order Batter  https://wassets.hscicdn.com/static/images/lazy...   \n",
       "3       Opening Batter  https://wassets.hscicdn.com/static/images/lazy...   \n",
       "4       Opening Batter  https://wassets.hscicdn.com/static/images/lazy...   \n",
       "\n",
       "   description  \n",
       "0          NaN  \n",
       "1          NaN  \n",
       "2          NaN  \n",
       "3          NaN  \n",
       "4          NaN  "
      ]
     },
     "execution_count": 27,
     "metadata": {},
     "output_type": "execute_result"
    }
   ],
   "source": [
    "df_players = pd.read_csv(\"./New folder/dim_players.csv\")\n",
    "df_players.head()"
   ]
  },
  {
   "cell_type": "code",
   "execution_count": 28,
   "id": "3b9b11eb",
   "metadata": {},
   "outputs": [],
   "source": [
    "df_players['name'] = df_players['name'].apply(lambda x: x.replace('â€', ''))\n",
    "df_players['name'] = df_players['name'].apply(lambda x: x.replace('†', ''))\n",
    "df_players['name'] = df_players['name'].apply(lambda x: x.replace('\\xa0', ''))"
   ]
  },
  {
   "cell_type": "code",
   "execution_count": 29,
   "id": "11de616a",
   "metadata": {},
   "outputs": [
    {
     "data": {
      "text/plain": [
       "(253, 7)"
      ]
     },
     "execution_count": 29,
     "metadata": {},
     "output_type": "execute_result"
    }
   ],
   "source": [
    "df_players.shape"
   ]
  },
  {
   "cell_type": "code",
   "execution_count": 30,
   "id": "b59548bf",
   "metadata": {},
   "outputs": [],
   "source": [
    "df_players.to_csv('Files/dim_players_no_images.csv', index = False)"
   ]
  }
 ],
 "metadata": {
  "kernelspec": {
   "display_name": "Python 3",
   "language": "python",
   "name": "python3"
  },
  "language_info": {
   "codemirror_mode": {
    "name": "ipython",
    "version": 3
   },
   "file_extension": ".py",
   "mimetype": "text/x-python",
   "name": "python",
   "nbconvert_exporter": "python",
   "pygments_lexer": "ipython3",
   "version": "3.12.6"
  }
 },
 "nbformat": 4,
 "nbformat_minor": 5
}
